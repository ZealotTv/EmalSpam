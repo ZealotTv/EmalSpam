{
  "nbformat": 4,
  "nbformat_minor": 0,
  "metadata": {
    "colab": {
      "name": "spam.ipynb",
      "provenance": []
    },
    "kernelspec": {
      "name": "python3",
      "display_name": "Python 3"
    },
    "language_info": {
      "name": "python"
    }
  },
  "cells": [
    {
      "cell_type": "code",
      "metadata": {
        "id": "lVS6Zx6G9fa1"
      },
      "source": [
        "from sklearn.feature_extraction.text import CountVectorizer\n",
        "from sklearn.model_selection import train_test_split\n",
        "from sklearn import ensemble \n",
        "from sklearn.metrics import classification_report, accuracy_score"
      ],
      "execution_count": null,
      "outputs": []
    },
    {
      "cell_type": "code",
      "metadata": {
        "id": "eee-i0DmAh5a"
      },
      "source": [
        "text_vec = CountVectorizer().fit_transform(df['text'])\n",
        "X_train, X_test, y_train, y_test = train_test_split(text_vec, df['spam'], test_size = 0.45, random_state = 42, shuffle = True)"
      ],
      "execution_count": null,
      "outputs": []
    },
    {
      "cell_type": "code",
      "metadata": {
        "id": "7rg36SKuBkXc"
      },
      "source": [
        "classifier = ensemble.GradientBoostingClassifier(\n",
        "    n_estimators = 100, \n",
        "    learning_rate = 0.5,\n",
        "    max_depth = 6\n",
        ")"
      ],
      "execution_count": null,
      "outputs": []
    },
    {
      "cell_type": "code",
      "metadata": {
        "colab": {
          "base_uri": "https://localhost:8080/"
        },
        "id": "ktxPgQ3gBqiG",
        "outputId": "d3e70872-4b93-4bf4-c7d0-6e3b055e1b19"
      },
      "source": [
        "classifier.fit(X_train, y_train)\n",
        "predictions = classifier.predict(X_test)\n",
        "print(classification_report(y_test, predictions))"
      ],
      "execution_count": null,
      "outputs": [
        {
          "output_type": "stream",
          "text": [
            "              precision    recall  f1-score   support\n",
            "\n",
            "           0       0.97      0.99      0.98      1942\n",
            "           1       0.98      0.92      0.95       636\n",
            "\n",
            "    accuracy                           0.98      2578\n",
            "   macro avg       0.98      0.96      0.97      2578\n",
            "weighted avg       0.98      0.98      0.98      2578\n",
            "\n"
          ],
          "name": "stdout"
        }
      ]
    }
  ]
}